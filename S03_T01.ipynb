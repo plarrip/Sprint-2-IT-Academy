{
 "cells": [
  {
   "cell_type": "markdown",
   "id": "63bcf075",
   "metadata": {},
   "source": [
    "# Nivell 1 - <h1>\n",
    "###### *Exercici 1* - <h6>\n",
    "- Crea una llista que agrupi els mesos de l'any en trimestres, una llista amb 4 llistes dins."
   ]
  },
  {
   "cell_type": "code",
   "execution_count": 22,
   "id": "940539a7",
   "metadata": {},
   "outputs": [
    {
     "data": {
      "text/plain": [
       "[['Gener', 'Febrer', 'Març'],\n",
       " ['Abril', 'Maig', 'Juny'],\n",
       " ['Juliol', 'Agost', 'Setembre'],\n",
       " ['Octubre', 'Novembre', 'Desembre']]"
      ]
     },
     "execution_count": 22,
     "metadata": {},
     "output_type": "execute_result"
    }
   ],
   "source": [
    "trimestres = [[\"Gener\", \"Febrer\", \"Març\"], [\"Abril\", \"Maig\", \"Juny\"], [\"Juliol\", \"Agost\", \"Setembre\"], [\"Octubre\", \"Novembre\", \"Desembre\"]]\n",
    "trimestres"
   ]
  },
  {
   "cell_type": "markdown",
   "id": "9f737525",
   "metadata": {},
   "source": [
    "###### Exercici 2 - <h6>\n",
    "Crea un codi que et permeti accedir a:\n",
    "\n",
    "- El segon mes del primer trimestre:"
   ]
  },
  {
   "cell_type": "code",
   "execution_count": 23,
   "id": "d0ae5295",
   "metadata": {},
   "outputs": [
    {
     "data": {
      "text/plain": [
       "'Febrer'"
      ]
     },
     "execution_count": 23,
     "metadata": {},
     "output_type": "execute_result"
    }
   ],
   "source": [
    "trimestres[0][1]"
   ]
  },
  {
   "cell_type": "markdown",
   "id": "4a659bc0",
   "metadata": {},
   "source": [
    "- Els mesos del primer trimestre:"
   ]
  },
  {
   "cell_type": "code",
   "execution_count": 24,
   "id": "82501b69",
   "metadata": {},
   "outputs": [
    {
     "data": {
      "text/plain": [
       "['Gener', 'Febrer', 'Març']"
      ]
     },
     "execution_count": 24,
     "metadata": {},
     "output_type": "execute_result"
    }
   ],
   "source": [
    "trimestres[0]"
   ]
  },
  {
   "cell_type": "markdown",
   "id": "53f4de66",
   "metadata": {},
   "source": [
    "- Setembre i octubre:"
   ]
  },
  {
   "cell_type": "code",
   "execution_count": 25,
   "id": "6f40c455",
   "metadata": {},
   "outputs": [
    {
     "data": {
      "text/plain": [
       "['Setembre', 'Octubre']"
      ]
     },
     "execution_count": 25,
     "metadata": {},
     "output_type": "execute_result"
    }
   ],
   "source": [
    "t = [trimestres[2][2], trimestres[3][0]]\n",
    "t"
   ]
  },
  {
   "cell_type": "markdown",
   "id": "c902a15a",
   "metadata": {},
   "source": [
    "###### Exercici 3 <h6>\n",
    "- Crea una llista amb nombres desordenats i respon a les següents preguntes:"
   ]
  },
  {
   "cell_type": "code",
   "execution_count": 26,
   "id": "89be9989",
   "metadata": {},
   "outputs": [],
   "source": [
    "llista = [2,6,8,8,4,2,4,6,8,9,4,2,2,1,2,4,6,8,5,6,8,8,7,6,3]"
   ]
  },
  {
   "cell_type": "markdown",
   "id": "c5b24ad2",
   "metadata": {},
   "source": [
    "- Quants números hi ha?"
   ]
  },
  {
   "cell_type": "code",
   "execution_count": 27,
   "id": "ffe7ba4f",
   "metadata": {},
   "outputs": [
    {
     "data": {
      "text/plain": [
       "25"
      ]
     },
     "execution_count": 27,
     "metadata": {},
     "output_type": "execute_result"
    }
   ],
   "source": [
    "len(llista)"
   ]
  },
  {
   "cell_type": "markdown",
   "id": "4b2fe9b2",
   "metadata": {},
   "source": [
    "- Quantes vegades apareix el número 3?"
   ]
  },
  {
   "cell_type": "code",
   "execution_count": 28,
   "id": "5e40f64b",
   "metadata": {},
   "outputs": [
    {
     "data": {
      "text/plain": [
       "1"
      ]
     },
     "execution_count": 28,
     "metadata": {},
     "output_type": "execute_result"
    }
   ],
   "source": [
    "llista.count(3)"
   ]
  },
  {
   "cell_type": "markdown",
   "id": "b96e939c",
   "metadata": {},
   "source": [
    "- Quantes vegades apareixen els nombres 3 i 4?"
   ]
  },
  {
   "cell_type": "code",
   "execution_count": 30,
   "id": "3bb87059",
   "metadata": {},
   "outputs": [
    {
     "data": {
      "text/plain": [
       "5"
      ]
     },
     "execution_count": 30,
     "metadata": {},
     "output_type": "execute_result"
    }
   ],
   "source": [
    "llista.count(3)+llista.count(4)"
   ]
  },
  {
   "cell_type": "markdown",
   "id": "930d45b0",
   "metadata": {},
   "source": [
    "- Quin és el número més gran?"
   ]
  },
  {
   "cell_type": "code",
   "execution_count": 33,
   "id": "e9908807",
   "metadata": {},
   "outputs": [
    {
     "data": {
      "text/plain": [
       "9"
      ]
     },
     "execution_count": 33,
     "metadata": {},
     "output_type": "execute_result"
    }
   ],
   "source": [
    "max(llista)"
   ]
  },
  {
   "cell_type": "markdown",
   "id": "d3af737b",
   "metadata": {},
   "source": [
    "- Quins són els 3 números més petits?"
   ]
  },
  {
   "cell_type": "code",
   "execution_count": 42,
   "id": "6e344dfb",
   "metadata": {},
   "outputs": [
    {
     "data": {
      "text/plain": [
       "[1, 2, 3]"
      ]
     },
     "execution_count": 42,
     "metadata": {},
     "output_type": "execute_result"
    }
   ],
   "source": [
    "l = set(llista)\n",
    "mins = []\n",
    "c=1\n",
    "while c<4:\n",
    "    c+=1\n",
    "    mins.append(min(l))\n",
    "    l.remove(min(l))\n",
    "\n",
    "mins\n"
   ]
  },
  {
   "cell_type": "markdown",
   "id": "afd58e9f",
   "metadata": {},
   "source": [
    "- Quin és el rang d’aquesta llista?"
   ]
  },
  {
   "cell_type": "code",
   "execution_count": 44,
   "id": "50d50c5f",
   "metadata": {},
   "outputs": [
    {
     "data": {
      "text/plain": [
       "[1, 9]"
      ]
     },
     "execution_count": 44,
     "metadata": {},
     "output_type": "execute_result"
    }
   ],
   "source": [
    "rang = [min(llista), max(llista)]\n",
    "rang"
   ]
  },
  {
   "cell_type": "markdown",
   "id": "a7eae4e1",
   "metadata": {},
   "source": [
    "###### Exercici 4 - <h6>\n",
    "- Crea un diccionari de la següent forma i respon a les preguntes:\n",
    "compra = { \"Pomes\" : {\"Qty\": 5, \"€\": 0.42}, \"Peres\" : {\"Qty\": 3, \"€\": 0.66} }"
   ]
  },
  {
   "cell_type": "code",
   "execution_count": 46,
   "id": "478bcc29",
   "metadata": {},
   "outputs": [
    {
     "data": {
      "text/plain": [
       "{'Pomes': {'Qty': 5, '€': 0.42}, 'Peres': {'Qty': 3, '€': 0.66}}"
      ]
     },
     "execution_count": 46,
     "metadata": {},
     "output_type": "execute_result"
    }
   ],
   "source": [
    "compra = { \"Pomes\" : {\"Qty\": 5, \"€\": 0.42}, \"Peres\" : {\"Qty\": 3, \"€\": 0.66} }\n",
    "compra"
   ]
  },
  {
   "cell_type": "markdown",
   "id": "520aa078",
   "metadata": {},
   "source": [
    "- Afegeix alguna fruita més:"
   ]
  },
  {
   "cell_type": "code",
   "execution_count": 49,
   "id": "61d128fa",
   "metadata": {},
   "outputs": [
    {
     "data": {
      "text/plain": [
       "{'Pomes': {'Qty': 5, '€': 0.42},\n",
       " 'Peres': {'Qty': 3, '€': 0.66},\n",
       " 'Platans': {'Qty': 4, '€': 0.71}}"
      ]
     },
     "execution_count": 49,
     "metadata": {},
     "output_type": "execute_result"
    }
   ],
   "source": [
    "compra[\"Platans\"] = {'Qty':4, '€':0.71}\n",
    "compra"
   ]
  },
  {
   "cell_type": "markdown",
   "id": "dca0c81a",
   "metadata": {},
   "source": [
    "- Quant han costat les peres en total?"
   ]
  },
  {
   "cell_type": "code",
   "execution_count": 53,
   "id": "809bb836",
   "metadata": {},
   "outputs": [
    {
     "data": {
      "text/plain": [
       "1.98"
      ]
     },
     "execution_count": 53,
     "metadata": {},
     "output_type": "execute_result"
    }
   ],
   "source": [
    "compra.get(\"Peres\").get(\"€\") * compra.get(\"Peres\").get(\"Qty\")"
   ]
  },
  {
   "cell_type": "markdown",
   "id": "3772d2ab",
   "metadata": {},
   "source": [
    "- Quantes fruites hem comprat en total?"
   ]
  },
  {
   "cell_type": "code",
   "execution_count": 56,
   "id": "edddfb56",
   "metadata": {},
   "outputs": [
    {
     "data": {
      "text/plain": [
       "12"
      ]
     },
     "execution_count": 56,
     "metadata": {},
     "output_type": "execute_result"
    }
   ],
   "source": [
    "x=0\n",
    "for c in compra:\n",
    "    x = x + compra.get(c).get(\"Qty\")\n",
    "x"
   ]
  },
  {
   "cell_type": "markdown",
   "id": "e4d6bb25",
   "metadata": {},
   "source": [
    "- Quina és la fruita més cara?"
   ]
  },
  {
   "cell_type": "code",
   "execution_count": 77,
   "id": "e170a28c",
   "metadata": {},
   "outputs": [
    {
     "name": "stdout",
     "output_type": "stream",
     "text": [
      "Platans :  0.71 €\n"
     ]
    }
   ],
   "source": [
    "m = 0\n",
    "n=\"\"\n",
    "for c in compra.keys():\n",
    "    compra.get(c).get(\"€\")\n",
    "    if(compra.get(c).get(\"€\")>m):\n",
    "        m=compra.get(c).get(\"€\")\n",
    "        n = c\n",
    "\n",
    "print(n, \": \", m ,\"€\")"
   ]
  },
  {
   "cell_type": "code",
   "execution_count": null,
   "id": "6b63cff5",
   "metadata": {},
   "outputs": [],
   "source": []
  }
 ],
 "metadata": {
  "kernelspec": {
   "display_name": "Python 3",
   "language": "python",
   "name": "python3"
  },
  "language_info": {
   "codemirror_mode": {
    "name": "ipython",
    "version": 3
   },
   "file_extension": ".py",
   "mimetype": "text/x-python",
   "name": "python",
   "nbconvert_exporter": "python",
   "pygments_lexer": "ipython3",
   "version": "3.8.8"
  }
 },
 "nbformat": 4,
 "nbformat_minor": 5
}
