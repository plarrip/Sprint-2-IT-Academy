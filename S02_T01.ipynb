{
 "cells": [
  {
   "cell_type": "markdown",
   "id": "a3dc77a6",
   "metadata": {},
   "source": [
    "# Nivell 1 - <h1> \n",
    "###### *Exercici 1* - <h6>\n",
    "- [x] Instala el programa Anaconda amb Python 3, i Jupyter Notebook.\n",
    "\n",
    "###### *Exercici 2* - <h6>\n",
    "- [x] Utilitzant Jupyet Notebook executa alguns calculs senzills, a la vegada que et familiaritzes amb el llenguatge **Markdown**."
   ]
  },
  {
   "cell_type": "code",
   "execution_count": 2,
   "id": "ab913851",
   "metadata": {},
   "outputs": [
    {
     "data": {
      "text/plain": [
       "6"
      ]
     },
     "execution_count": 2,
     "metadata": {},
     "output_type": "execute_result"
    }
   ],
   "source": [
    "x = 1\n",
    "y = 2\n",
    "z = x*2+y**2\n",
    "z"
   ]
  },
  {
   "cell_type": "markdown",
   "id": "bc013e76",
   "metadata": {},
   "source": [
    "###### *Exercici 3* - <h6>\n",
    "- [x] Prova de  crear titols, llistes, canviar l'estil de la lletra o afegir imatges dins del Notebook.\n",
    "\n",
    "![Logo](https://pics.me.me/i-have-no-dea-what-im-doing-made-on-imgur-19371770.png \"meme\")"
   ]
  },
  {
   "cell_type": "markdown",
   "id": "ebf7b4cb",
   "metadata": {},
   "source": [
    "# Nivell 2 - <h1>\n",
    "###### *Exercici 1* - <h6>\n",
    "- [x] Exporta el Notebook com a pdf i com a html.\n"
   ]
  },
  {
   "cell_type": "markdown",
   "id": "82a1dd38",
   "metadata": {},
   "source": [
    "# Nivell 3 - <h1>\n",
    "###### *Exercici 1\" - <h6>\n",
    "- [x] Installa Nbextensions al Notebook de Jupyter"
   ]
  },
  {
   "cell_type": "code",
   "execution_count": null,
   "id": "e55db197",
   "metadata": {},
   "outputs": [],
   "source": []
  }
 ],
 "metadata": {
  "kernelspec": {
   "display_name": "Python 3",
   "language": "python",
   "name": "python3"
  },
  "language_info": {
   "codemirror_mode": {
    "name": "ipython",
    "version": 3
   },
   "file_extension": ".py",
   "mimetype": "text/x-python",
   "name": "python",
   "nbconvert_exporter": "python",
   "pygments_lexer": "ipython3",
   "version": "3.8.8"
  }
 },
 "nbformat": 4,
 "nbformat_minor": 5
}
