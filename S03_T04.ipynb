{
 "cells": [
  {
   "cell_type": "markdown",
   "id": "30b4f44e",
   "metadata": {},
   "source": [
    "# S03 T04: Pràctica amb programació numèrica <h1>\n",
    "Familiaritza't amb la Programacio Numerica a traves de la llibreria NumPy.\n",
    "\n",
    "## Nivell 1 \n",
    "\n",
    "###### - Exercici 1 \n",
    "- Crea una funció que donat un Array d’una dimensió, et faci un resum estadístic bàsic de les dades. Si detecta que l’array té més d’una dimensió, ha de mostrar un missatge d’error."
   ]
  },
  {
   "cell_type": "code",
   "execution_count": 290,
   "id": "ddaeb594",
   "metadata": {},
   "outputs": [
    {
     "name": "stdout",
     "output_type": "stream",
     "text": [
      "Array: \n",
      " [ 3 39 99 47 70 83 46 23 15 10 85 91 28 74 98 78 93 41 77 25 80 25 29  8\n",
      " 75 98 67 94 20 15 64 71 13  3 25 54 49 87 48 95 32 18 64 23 39 33 25 31\n",
      " 78 22]\n",
      "\n",
      "- Average: \n",
      "\t 50.2\n",
      "\n",
      "- Median: \n",
      "\t 46.5\n",
      "\n",
      "- Moda: \n",
      "\t 25\n",
      "\n",
      "- Range: \n",
      "\t 96\n",
      "\n",
      "- Standard deviation: \n",
      "\t 29.88\n"
     ]
    }
   ],
   "source": [
    "import numpy as np\n",
    "import random\n",
    "\n",
    "def funcio(array):\n",
    "    if(len(array.shape)==1):\n",
    "        print(\"Array: \\n\", array)\n",
    "        print(\"\\n- Average: \\n\\t\", np.average(array))\n",
    "        print(\"\\n- Median: \\n\\t\", np.median(array))\n",
    "        vals, counts = np.unique(array, return_counts=True)\n",
    "        mode_value = np.argwhere(counts == np.max(counts))\n",
    "        print(\"\\n- Moda: \\n\\t\", ', '.join(map(str,vals[mode_value].flatten().tolist())))\n",
    "        print(\"\\n- Range: \\n\\t\", np.max(array)-np.min(array))\n",
    "        print(\"\\n- Standard deviation: \\n\\t\", format(np.std(array),'.2f'))\n",
    "    else:\n",
    "        print(\"L'array te dos o mes dimensions.\")\n",
    "\n",
    "y = np.array([])\n",
    "y = y.astype('int64')\n",
    "for x in range(50):\n",
    "    y = np.append(y, random.randint(1,100))\n",
    "funcio(y)\n"
   ]
  },
  {
   "cell_type": "markdown",
   "id": "1fa2274b",
   "metadata": {},
   "source": [
    "###### - Exercici 2\n",
    "- Crea una funció que et generi un quadrat NxN de nombres aleatoris entre el 0 i el 100."
   ]
  },
  {
   "cell_type": "code",
   "execution_count": 292,
   "id": "1b152ab0",
   "metadata": {},
   "outputs": [
    {
     "name": "stdout",
     "output_type": "stream",
     "text": [
      "Enter the lenght of the square (1-99): 7\n",
      "Length of each side:  7\n",
      "Numbers generated:  [7 2 4 2 5 5 4]\n",
      "\n",
      "\n",
      "- SQUARE 1 GENERATED: \n",
      "\n",
      "7\t2\t4\t2\t5\t5\t4 \n",
      "\n",
      "\n",
      "2 \t\t\t\t\t\t 2 \n",
      "\n",
      "\n",
      "4 \t\t\t\t\t\t 4 \n",
      "\n",
      "\n",
      "2 \t\t\t\t\t\t 2 \n",
      "\n",
      "\n",
      "5 \t\t\t\t\t\t 5 \n",
      "\n",
      "\n",
      "5 \t\t\t\t\t\t 5 \n",
      "\n",
      "\n",
      "7\t2\t4\t2\t5\t5\t4\n",
      "\n",
      "\n",
      "- SQUARE 2 GENERATED: \n",
      "\n",
      "\t 7 2 4 2 5 5 4\n",
      "\t 7 2 4 2 5 5 4\n",
      "\t 7 2 4 2 5 5 4\n",
      "\t 7 2 4 2 5 5 4\n",
      "\t 7 2 4 2 5 5 4\n",
      "\t 7 2 4 2 5 5 4\n",
      "\t 7 2 4 2 5 5 4\n"
     ]
    }
   ],
   "source": [
    "length = np.array([])             #create an empty numpy array with type 'int64'\n",
    "length = length.astype('int64')      \n",
    "y = int(input(\"Enter the lenght of the square (1-99): \"))    \n",
    "\n",
    "def executa(y, length):\n",
    "    \n",
    "    def gen(y, length):\n",
    "        for x in range(y):\n",
    "            length = np.append(length, random.randint(1,y))       # function to create a numpy array with random numbers\n",
    "        return length\n",
    "\n",
    "    def square_one(y, length):\n",
    "        l = '\\t'.join(map(str, length.flatten().tolist()))  # creation and display of an square with the numbers on the array\n",
    "        print(l, \"\\n\\n\")                                    # (empty inside)\n",
    "        for x in length[1:-1]:\n",
    "            print(x, \"\\t\"*int(y-1), x, \"\\n\\n\")\n",
    "        print(l)\n",
    "\n",
    "    def square_two(y, length):\n",
    "        l = ' '.join(map(str,length.flatten().tolist()))  # creation and display of a square with the numbers on the array\n",
    "        for r in range(y):                                # (filled inside)\n",
    "            print(\"\\t\", l)\n",
    "    \n",
    "    length = gen(y, length)\n",
    "    print(\"Length of each side: \", y)\n",
    "    print(\"Numbers generated: \", length)\n",
    "    print(\"\\n\\n- SQUARE 1 GENERATED: \\n\")\n",
    "    square_one(y, length)\n",
    "    print(\"\\n\\n- SQUARE 2 GENERATED: \\n\")\n",
    "    square_two(y, length)\n",
    "\n",
    "executa(y, length)"
   ]
  },
  {
   "cell_type": "markdown",
   "id": "a3f0c4b3",
   "metadata": {},
   "source": [
    "###### - Exercici 3\n",
    "- Crea una funció que donada una taula de dues dimensions, et calculi els totals per fila i els totals per columna."
   ]
  },
  {
   "cell_type": "code",
   "execution_count": 181,
   "id": "16921024",
   "metadata": {},
   "outputs": [
    {
     "name": "stdout",
     "output_type": "stream",
     "text": [
      "[[24  9 52 90 57]\n",
      " [37 85 46 56 54]\n",
      " [67 58 57  2 75]\n",
      " [ 2 45 92 90 28]\n",
      " [26 36 13 53 41]]\n"
     ]
    }
   ],
   "source": [
    "k = np.random.randint(1, high=100, size=(5,5), dtype='int64')     # generate a 5x5 np.array with random numbers from 1 to 99\n",
    "print(k)"
   ]
  },
  {
   "cell_type": "code",
   "execution_count": 182,
   "id": "fc41117a",
   "metadata": {},
   "outputs": [
    {
     "name": "stdout",
     "output_type": "stream",
     "text": [
      "[24  9 52 90 57]    [ 232 ]\n",
      "[37 85 46 56 54]    [ 278 ]\n",
      "[67 58 57  2 75]    [ 259 ]\n",
      "[ 2 45 92 90 28]    [ 257 ]\n",
      "[26 36 13 53 41]    [ 169 ]\n",
      "\n",
      " [156, 233, 260, 291, 255]\n"
     ]
    }
   ],
   "source": [
    "def totals(k):\n",
    "    sum_fls = []\n",
    "    for x in range(k.shape[1]):     # iterate thru the columns to get the total sum and save it in a list\n",
    "        y = np.sum(k[:,x])\n",
    "        sum_fls.append(y)\n",
    "    \n",
    "    sum_cls = []\n",
    "    for x in range(k.shape[0]):      # iterate thru the rows to get the total sum and save it in a list\n",
    "        y = np.sum(k[x,:])\n",
    "        sum_cls.append(y)\n",
    "    \n",
    "    z=0\n",
    "    for x in k:\n",
    "        print(x, \"   [\", sum_cls[z], \"]\")    # print totals beside each respective row\n",
    "        z+=1\n",
    "        \n",
    "    print(\"\\n\", sum_fls)         # print totals below each respective column\n",
    "    \n",
    "\n",
    "    \n",
    "totals(k)"
   ]
  },
  {
   "cell_type": "markdown",
   "id": "fac78f9d",
   "metadata": {},
   "source": [
    "###### - Exercici 4\n",
    "- Implementa manualment una funció que calculi el coeficient de correlació. Informa’t-en sobre els seus usos i interpretació."
   ]
  },
  {
   "cell_type": "markdown",
   "id": "8fbe0c1e",
   "metadata": {},
   "source": [
    "**- Original formula**"
   ]
  },
  {
   "cell_type": "code",
   "execution_count": 268,
   "id": "a51ab763",
   "metadata": {},
   "outputs": [
    {
     "data": {
      "text/plain": [
       "(-0.5, 396.5, 160.5, -0.5)"
      ]
     },
     "execution_count": 268,
     "metadata": {},
     "output_type": "execute_result"
    },
    {
     "data": {
      "image/png": "[encoded data removed]",
      "text/plain": [
       "<Figure size 360x504 with 1 Axes>"
      ]
     },
     "metadata": {
      "needs_background": "light"
     },
     "output_type": "display_data"
    }
   ],
   "source": [
    "import matplotlib.image as mpimg\n",
    "import matplotlib.pyplot as plt\n",
    "import math\n",
    "\n",
    "img_data = mpimg.imread(\"Desktop/coefcorr.png\")\n",
    "plt.figure(figsize=(5,7))\n",
    "plt.imshow(img_data)\n",
    "plt.axis('off')"
   ]
  },
  {
   "cell_type": "markdown",
   "id": "a17c0a89",
   "metadata": {},
   "source": [
    "**- Creation of numbers in an array:**"
   ]
  },
  {
   "cell_type": "code",
   "execution_count": 281,
   "id": "074533df",
   "metadata": {},
   "outputs": [
    {
     "name": "stdout",
     "output_type": "stream",
     "text": [
      "[[1 1]\n",
      " [2 3]\n",
      " [3 6]\n",
      " [4 7]]\n"
     ]
    },
    {
     "data": {
      "text/plain": [
       "(4, 2)"
      ]
     },
     "execution_count": 281,
     "metadata": {},
     "output_type": "execute_result"
    }
   ],
   "source": [
    "data = np.array([[1,1],[2,3],[3,6],[4,7]])     # creation of a 4x2 array\n",
    "print(data)\n",
    "data.shape"
   ]
  },
  {
   "cell_type": "markdown",
   "id": "4aa1dd0b",
   "metadata": {},
   "source": [
    "**- Sum of each axis' values:**"
   ]
  },
  {
   "cell_type": "code",
   "execution_count": 282,
   "id": "6839583d",
   "metadata": {},
   "outputs": [
    {
     "name": "stdout",
     "output_type": "stream",
     "text": [
      "10\n",
      "17\n"
     ]
    }
   ],
   "source": [
    "sumX = np.sum(data[:,0])    # calculate sum of X and Y by separate\n",
    "print(sumX)\n",
    "sumY = np.sum(data[:,1])\n",
    "print(sumY)"
   ]
  },
  {
   "cell_type": "markdown",
   "id": "6a0300d1",
   "metadata": {},
   "source": [
    "**- Average of each axis' values:**"
   ]
  },
  {
   "cell_type": "code",
   "execution_count": 283,
   "id": "e35631ce",
   "metadata": {},
   "outputs": [
    {
     "name": "stdout",
     "output_type": "stream",
     "text": [
      "2.5\n",
      "4.25\n"
     ]
    }
   ],
   "source": [
    "N = len(data)\n",
    "avgX = sumX/N             # calculate average of X and Y by separate\n",
    "print(avgX)\n",
    "avgY = sumY/N\n",
    "print(avgY)"
   ]
  },
  {
   "cell_type": "markdown",
   "id": "84b01a6d",
   "metadata": {},
   "source": [
    "**- Covariance of XY:**"
   ]
  },
  {
   "cell_type": "code",
   "execution_count": 284,
   "id": "ba9bf987",
   "metadata": {},
   "outputs": [
    {
     "data": {
      "text/plain": [
       "3.5"
      ]
     },
     "execution_count": 284,
     "metadata": {},
     "output_type": "execute_result"
    }
   ],
   "source": [
    "s = 0                     # calculate the covariance \"Sxy\"\n",
    "varX = []                                    \n",
    "varY = []                                     \n",
    "for d in data:\n",
    "    x, y = d[0], d[1]\n",
    "    x = x-avgX            # calculate the variance of X and store in 'varX'\n",
    "    varX.append(x)  \n",
    "    y = y-avgY            # calculate the variance of Y and store in 'varY'\n",
    "    varY.append(y)\n",
    "    s = s + ((x)*(y))\n",
    "\n",
    "Sxy = s/(N-1)\n",
    "Sxy"
   ]
  },
  {
   "cell_type": "markdown",
   "id": "0888011e",
   "metadata": {},
   "source": [
    "**- Standard deviation of axis X:**"
   ]
  },
  {
   "cell_type": "code",
   "execution_count": 285,
   "id": "a25d11f4",
   "metadata": {},
   "outputs": [
    {
     "data": {
      "text/plain": [
       "1.29"
      ]
     },
     "execution_count": 285,
     "metadata": {},
     "output_type": "execute_result"
    }
   ],
   "source": [
    "# calculate the standard deviation \"Sx\"\n",
    "Sx = 0\n",
    "for x in varX:\n",
    "    s = x**2\n",
    "    Sx = Sx + s    \n",
    "Sx = round(math.sqrt(Sx/(N-1)),2)\n",
    "Sx"
   ]
  },
  {
   "cell_type": "markdown",
   "id": "cb6e47ef",
   "metadata": {},
   "source": [
    "**- Standard deviation of axis Y:**"
   ]
  },
  {
   "cell_type": "code",
   "execution_count": 286,
   "id": "9927277c",
   "metadata": {},
   "outputs": [
    {
     "data": {
      "text/plain": [
       "2.75"
      ]
     },
     "execution_count": 286,
     "metadata": {},
     "output_type": "execute_result"
    }
   ],
   "source": [
    "# calculate the standard deviation \"Sy\"\n",
    "Sy = 0\n",
    "for y in varY:\n",
    "    s = y**2\n",
    "    Sy = Sy + s    \n",
    "Sy = round(math.sqrt(Sy/(N-1)),2)\n",
    "Sy"
   ]
  },
  {
   "cell_type": "markdown",
   "id": "c0b4b748",
   "metadata": {},
   "source": [
    "**- Gathering of all variables and calculation of CORRELATION COEFFICIENT:**"
   ]
  },
  {
   "cell_type": "code",
   "execution_count": 287,
   "id": "ea22cb1d",
   "metadata": {},
   "outputs": [
    {
     "data": {
      "text/plain": [
       "0.98"
      ]
     },
     "execution_count": 287,
     "metadata": {},
     "output_type": "execute_result"
    }
   ],
   "source": [
    "# FINAL STEP: CORRELATION COEFFICIENT\n",
    "r = math.floor((Sxy/(Sx*Sy))*100)/100\n",
    "r"
   ]
  },
  {
   "cell_type": "markdown",
   "id": "7b9d5682",
   "metadata": {},
   "source": [
    "**- Definitive code:**"
   ]
  },
  {
   "cell_type": "code",
   "execution_count": 294,
   "id": "65973e08",
   "metadata": {},
   "outputs": [],
   "source": [
    "data = np.array([[1,1],[2,3],[3,6],[4,7]])     # creation of a 4x2 array\n",
    "data.shape\n",
    "\n",
    "sumX = np.sum(data[:,0])    # calculate sum of X and Y by separate\n",
    "sumY = np.sum(data[:,1])\n",
    "\n",
    "N = len(data)\n",
    "avgX = sumX/N             # calculate average of X and Y by separate\n",
    "avgY = sumY/N\n",
    "\n",
    "s = 0                     # calculate the covariance \"Sxy\"\n",
    "varX = []                                    \n",
    "varY = []                                     \n",
    "for d in data:\n",
    "    x, y = d[0], d[1]\n",
    "    x = x-avgX            # calculate the variance of X and store in 'varX'\n",
    "    varX.append(x)  \n",
    "    y = y-avgY            # calculate the variance of Y and store in 'varY'\n",
    "    varY.append(y)\n",
    "    s = s + ((x)*(y))\n",
    "\n",
    "Sxy = s/(N-1)\n",
    "\n",
    "# calculate the standard deviation \"Sx\"\n",
    "Sx = 0\n",
    "for x in varX:\n",
    "    s = x**2\n",
    "    Sx = Sx + s    \n",
    "Sx = round(math.sqrt(Sx/(N-1)),2)\n",
    "\n",
    "# calculate the standard deviation \"Sy\"\n",
    "Sy = 0\n",
    "for y in varY:\n",
    "    s = y**2\n",
    "    Sy = Sy + s    \n",
    "Sy = round(math.sqrt(Sy/(N-1)),2)"
   ]
  },
  {
   "cell_type": "code",
   "execution_count": 320,
   "id": "cfbbf527",
   "metadata": {},
   "outputs": [
    {
     "data": {
      "text/plain": [
       "array([[1, 2, 3, 4],\n",
       "       [1, 3, 6, 7]])"
      ]
     },
     "execution_count": 320,
     "metadata": {},
     "output_type": "execute_result"
    },
    {
     "data": {
      "image/png": "[encoded data removed]",
      "text/plain": [
       "<Figure size 504x360 with 1 Axes>"
      ]
     },
     "metadata": {
      "needs_background": "light"
     },
     "output_type": "display_data"
    }
   ],
   "source": [
    "fig = plt.figure(figsize=(7,5))\n",
    "plt.plot(data.T[0], data.T[1])\n",
    "data.T"
   ]
  },
  {
   "cell_type": "code",
   "execution_count": 321,
   "id": "ca751712",
   "metadata": {},
   "outputs": [
    {
     "name": "stdout",
     "output_type": "stream",
     "text": [
      "DATA:\n",
      " [[1 2 3 4]\n",
      " [1 3 6 7]] \n",
      "\n",
      "CORRELATION COEFFICIENT:     0.98\n"
     ]
    }
   ],
   "source": [
    "# FINAL STEP: CORRELATION COEFFICIENT\n",
    "r = math.floor((Sxy/(Sx*Sy))*100)/100\n",
    "print(\"DATA:\\n\", data.T, \"\\n\\nCORRELATION COEFFICIENT:    \", r)"
   ]
  },
  {
   "cell_type": "code",
   "execution_count": null,
   "id": "47c612a0",
   "metadata": {},
   "outputs": [],
   "source": []
  }
 ],
 "metadata": {
  "kernelspec": {
   "display_name": "Python 3",
   "language": "python",
   "name": "python3"
  }
 },
 "nbformat": 4,
 "nbformat_minor": 5
}
