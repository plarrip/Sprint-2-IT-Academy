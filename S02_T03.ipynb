{
 "cells": [
  {
   "cell_type": "markdown",
   "id": "60f63b20",
   "metadata": {},
   "source": [
    "# S02 T03: Estructura de control <h1>\n",
    "Comencem a familiaritzar-nos amb les estructures de control de Python. <br>\n",
    "\n",
    "### Nivell 1 --------------------\n",
    "## - Exercici 1\n",
    "L'exercici consisteix a crear un programa que et classifiqui una variable numèrica en funció de l’escala Suspès/Aprovat/Notable/Excel·lent."
   ]
  },
  {
   "cell_type": "code",
   "execution_count": 111,
   "id": "893d51ff",
   "metadata": {},
   "outputs": [
    {
     "name": "stdout",
     "output_type": "stream",
     "text": [
      "Entra la nota assolida (del 0 al 10):  7.5\n",
      "Qualificacio final: NOTABLE\n"
     ]
    }
   ],
   "source": [
    "while (True):\n",
    "    num = float(input(\"Entra la nota assolida (del 0 al 10):  \"))\n",
    "    if(num<0 or num>10):\n",
    "        print(\"Entra un valor del 0 al 10:  \")\n",
    "        continue\n",
    "    break\n",
    "\n",
    "print(\"Qualificacio final: \", end=\"\")\n",
    "if(num>=9):\n",
    "    print(\"EXCEL·LENT\")\n",
    "elif(num>=7):\n",
    "    print(\"NOTABLE\")\n",
    "elif(num>=5):\n",
    "    print(\"APROVAT\")\n",
    "else:\n",
    "    print(\"SUSPES\")"
   ]
  },
  {
   "cell_type": "markdown",
   "id": "a7e1a7e1",
   "metadata": {},
   "source": [
    "## - Exercici 2\n",
    "Utilitzant el següent tutorial Programiz: Python Input, Output and Import crea un programa que et pregunti dos números. T’ha de mostrar un missatge dient si el primer és més gran, el segon és més gran o són iguals."
   ]
  },
  {
   "cell_type": "code",
   "execution_count": 115,
   "id": "4a070ab9",
   "metadata": {},
   "outputs": [
    {
     "name": "stdout",
     "output_type": "stream",
     "text": [
      "Entra el primer nombre:  33\n",
      "Entra el segon nombre:  12\n",
      "El primer nombre 33.0 es mes gran que el segon 12.0\n"
     ]
    }
   ],
   "source": [
    "num1 = float(input(\"Entra el primer nombre:  \"))\n",
    "num2 = float(input(\"Entra el segon nombre:  \"))\n",
    "\n",
    "if(num1>num2):\n",
    "    print(\"El primer nombre {} es mes gran que el segon {}\".format(num1, num2))\n",
    "elif(num1<num2):\n",
    "    print(\"El primer nombre {} es mes petit que el segon {}\".format(num1, num2))\n",
    "else:\n",
    "    print(\"Els dos nombres {} i {} son iguals.\".format(num1,num2))"
   ]
  },
  {
   "cell_type": "markdown",
   "id": "93d64066",
   "metadata": {},
   "source": [
    "## - Exercici 3\n",
    "Crea un programa que et pregunti el teu nom, i et demani un número. Si el número és 0, hauria de mostrar un missatge d’error. En cas contrari, hauria de mostrar el nom repetit tants cops com indiqui el número. Per exemple, “Joan Joan Joan”."
   ]
  },
  {
   "cell_type": "code",
   "execution_count": 116,
   "id": "40e133c0",
   "metadata": {},
   "outputs": [
    {
     "name": "stdout",
     "output_type": "stream",
     "text": [
      "Entra el teu nom: Paul\n",
      "Ara entra un nombre: 22\n",
      "Paul Paul Paul Paul Paul Paul Paul Paul Paul Paul Paul Paul Paul Paul Paul Paul Paul Paul Paul Paul Paul Paul \n"
     ]
    }
   ],
   "source": [
    "nom = input(\"Entra el teu nom: \")\n",
    "while(True):\n",
    "    num = int(input(\"Ara entra un nombre: \"))\n",
    "    if(num<=0):\n",
    "        print(\"Error. Entra un nombre superior a 0:\")\n",
    "        continue\n",
    "    print((nom + \" \")*num)\n",
    "    break\n"
   ]
  },
  {
   "cell_type": "markdown",
   "id": "91a61c18",
   "metadata": {},
   "source": [
    "## - Exercici 4\n",
    "Crea un programa que donada una llista qualsevol, et digui si es simètrica o no. Si ho és, que et digui quants elements té."
   ]
  },
  {
   "cell_type": "code",
   "execution_count": 117,
   "id": "b85e4a36",
   "metadata": {
    "scrolled": true
   },
   "outputs": [
    {
     "name": "stdout",
     "output_type": "stream",
     "text": [
      "Enter multiple values\n",
      "1,2,3,4,5,4,3,2,1\n",
      "La llista es simetrica.\n"
     ]
    }
   ],
   "source": [
    "llista = [int(x) for x in input(\"Enter multiple values\\n\").split(',')]\n",
    "\n",
    "y = int(len(llista)/2)\n",
    "\n",
    "if(llista[:y] == list(reversed(llista[-y:]))):\n",
    "   print(\"La llista es simetrica.\")\n",
    "else:\n",
    "   print(\"La llista NO es simetrica\")\n"
   ]
  },
  {
   "cell_type": "markdown",
   "id": "f2da15fd",
   "metadata": {},
   "source": [
    "## - Exercici 5\n",
    "Crea un programa que donada una llista, et digui quants números coincideixen amb la seva posició. Per exemple [3,4,2,0,2,3,6] el 2 i el 6 coincideixen."
   ]
  },
  {
   "cell_type": "code",
   "execution_count": 118,
   "id": "7fad6ba0",
   "metadata": {},
   "outputs": [
    {
     "name": "stdout",
     "output_type": "stream",
     "text": [
      "Enter multiple values\n",
      "0,1,4,1,4,5,6\n",
      "Els seguents nombres coincideixen amb la seva posicio:  [0, 1, 4, 5, 6]\n"
     ]
    }
   ],
   "source": [
    "llista = [int(x) for x in input(\"Enter multiple values\\n\").split(',')]\n",
    "\n",
    "i = 0\n",
    "coinci = []\n",
    "for ll in llista:\n",
    "    if(ll == i):\n",
    "        coinci.append(ll)\n",
    "    i+=1\n",
    "\n",
    "if(len(coinci)!=0):\n",
    "    print(\"Els seguents nombres coincideixen amb la seva posicio: \" , coinci)\n",
    "else:\n",
    "    print(\"Cap nombre coincideix amb la seva posicio.\")"
   ]
  }
 ],
 "metadata": {
  "kernelspec": {
   "display_name": "Python 3",
   "language": "python",
   "name": "python3"
  },
  "language_info": {
   "codemirror_mode": {
    "name": "ipython",
    "version": 3
   },
   "file_extension": ".py",
   "mimetype": "text/x-python",
   "name": "python",
   "nbconvert_exporter": "python",
   "pygments_lexer": "ipython3",
   "version": "3.8.8"
  }
 },
 "nbformat": 4,
 "nbformat_minor": 5
}
